{
 "cells": [
  {
   "cell_type": "code",
   "execution_count": 1,
   "metadata": {},
   "outputs": [],
   "source": [
    "from concurrent.futures import ThreadPoolExecutor\n",
    "import psycopg2\n",
    "import requests\n",
    "from bs4 import BeautifulSoup\n",
    "from datetime import datetime\n",
    "from collections import deque\n",
    "import pandas as pd\n",
    "\n",
    "TIKI_URL = 'https://tiki.vn/'"
   ]
  },
  {
   "cell_type": "code",
   "execution_count": 2,
   "metadata": {},
   "outputs": [],
   "source": [
    "conn = psycopg2.connect(user=\"postgres\",\n",
    "                        port=\"5432\",\n",
    "                        database=\"thuctamdb\",\n",
    "                           password=\"thuctam\")\n",
    "conn.autocommit = True\n",
    "cur = conn.cursor()"
   ]
  },
  {
   "cell_type": "code",
   "execution_count": 3,
   "metadata": {},
   "outputs": [],
   "source": [
    "def create_product_table():\n",
    "    query = f'''\n",
    "    CREATE TABLE IF NOT EXISTS products (\n",
    "       id SERIAL PRIMARY KEY,\n",
    "       wproductid VARCHAR(255),\n",
    "       image TEXT,\n",
    "       fprice INT,\n",
    "       category VARCHAR(255),\n",
    "       subcategory VARCHAR(255),\n",
    "       title VARCHAR(1024),\n",
    "       seller VARCHAR(255),\n",
    "       rprice INT,\n",
    "       discount INT,\n",
    "       rating INT,\n",
    "       numreviews INT,\n",
    "       tikinow INT,\n",
    "       productlink TEXT,\n",
    "       cat_id INT,\n",
    "       created_at TIMESTAMP DEFAULT CURRENT_TIMESTAMP\n",
    "    );'''\n",
    "    conn = psycopg2.connect(user=\"postgres\",\n",
    "                        port=\"5432\",\n",
    "                        database=\"thuctamdb\",\n",
    "                           password=\"thuctam\")\n",
    "    conn.autocommit = True\n",
    "    cur = conn.cursor()\n",
    "    try:\n",
    "        cur.execute(query)\n",
    "    except Exception as err:\n",
    "        print(f'ERROR: {err}')\n",
    "        \n",
    "# create_product_table()"
   ]
  },
  {
   "cell_type": "code",
   "execution_count": 4,
   "metadata": {},
   "outputs": [],
   "source": [
    "class Product:\n",
    "    def __init__(self, prod_id, wproductid, image, fprice, category, subcategory, title, seller, rprice, discount, rating, numreviews, tikinow, productlink, cat_id):\n",
    "        self.prod_id = prod_id\n",
    "        self.wproductid = wproductid\n",
    "        self.image = image\n",
    "        self.fprice = fprice\n",
    "        self.category = category\n",
    "        self.subcategory = subcategory\n",
    "        self.title = title\n",
    "        self.seller = seller\n",
    "        self.rprice = rprice\n",
    "        self.discount = discount\n",
    "        self.rating = rating\n",
    "        self.numreviews = numreviews\n",
    "        self.tikinow = tikinow\n",
    "        self.productlink = productlink\n",
    "        self.cat_id = cat_id\n",
    "        \n",
    "    def save_into_db(self):\n",
    "        \n",
    "        query = 'SELECT wproductid FROM products WHERE wproductid LIKE %s;'\n",
    "        val = (self.wproductid,)\n",
    "        try:\n",
    "            conn = psycopg2.connect(\"dbname=thuctamdb user=postgres password=thuctam\")\n",
    "            conn.autocommit = True\n",
    "            cur = conn.cursor()\n",
    "            cur.execute(query, val)\n",
    "            # print(cur)\n",
    "            result = cur.fetchall()\n",
    "            if len(result) > 0:\n",
    "                conn.close()\n",
    "                return ''\n",
    "                \n",
    "        except Exception as err:\n",
    "            print(f'SELECT wproductid FROM products WHERE wproductid LIKE {val}: {err}')\n",
    "            \n",
    "        query = f\"\"\"\n",
    "            INSERT INTO products (wproductid, image, fprice, category, subcategory, title, seller, rprice, discount, rating, numreviews, tikinow, productlink, cat_id) \n",
    "            VALUES (%s, %s, %s, %s, %s, %s, %s, %s, %s, %s, %s, %s, %s, %s) RETURNING id;\n",
    "        \"\"\"\n",
    "        val = (self.wproductid, self.image, self.fprice, self.category, self.subcategory, self.title, self.seller, self.rprice, self.discount, self.rating, self.numreviews, self.tikinow, self.productlink, self.cat_id)\n",
    "        try:\n",
    "            cur.execute(query, val)\n",
    "            # Get id of the new row\n",
    "            self.prod_id = cur.fetchone()[0]\n",
    "            conn.close()\n",
    "        except Exception as err:\n",
    "            print(f'ERROR INSERT INTO products..{val}: {err}')\n",
    "        \n",
    "    def __repr__(self):\n",
    "        return f'ID: webProductID: {self.wproductid}, ImageURL: {self.image}, FinalPrice: {self.fprice}, MainCategory: {self.category}, SubCategory: {self.subcategory}, Title: {self.title}, Seller: {self.seller}, RegularPrice: {self.rprice}, Discount: {self.discount}, Rating: {self.rating}, NoOfReviews: {self.numreviews}, TikiNOW: {self.tikinow}, ProductLink: {self.productlink}, SubCatID: {self.cat_id}'\n"
   ]
  },
  {
   "cell_type": "code",
   "execution_count": 5,
   "metadata": {},
   "outputs": [],
   "source": [
    "def parse(url):\n",
    "    try:\n",
    "        response = requests.get(url).text\n",
    "        response = BeautifulSoup(response, \"html.parser\")\n",
    "        return response\n",
    "    except Exception as err:\n",
    "        print(f'ERROR: {err}')\n",
    "        return ''"
   ]
  },
  {
   "cell_type": "code",
   "execution_count": 6,
   "metadata": {},
   "outputs": [],
   "source": [
    "def get_littlest_cats():\n",
    "    conn = psycopg2.connect(user=\"postgres\",\n",
    "                        port=\"5432\",\n",
    "                        database=\"thuctamdb\",\n",
    "                           password=\"thuctam\")\n",
    "    conn.autocommit = True\n",
    "    cur = conn.cursor()\n",
    "    query = f\"\"\"\n",
    "    SELECT c.name AS Name, p.url AS ChildURL, p.id AS ChildID, p.parent_id AS ParentID, p.name AS ChildName\n",
    "        FROM categories AS p LEFT JOIN categories AS c ON c.parent_id = p.id \n",
    "        WHERE c.Name IS NULL;\n",
    "    \"\"\"\n",
    "    cur.execute(query)\n",
    "    result = cur.fetchall()\n",
    "    conn.close()\n",
    "    \n",
    "    return result\n"
   ]
  },
  {
   "cell_type": "code",
   "execution_count": 7,
   "metadata": {},
   "outputs": [
    {
     "data": {
      "text/plain": [
       "2676"
      ]
     },
     "execution_count": 7,
     "metadata": {},
     "output_type": "execute_result"
    }
   ],
   "source": [
    "littlest_cats = get_littlest_cats()\n",
    "df = pd.DataFrame(littlest_cats)\n",
    "\n",
    "df['merge'] = df[1] +' '+ df[2].map(str)\n",
    "global queue\n",
    "queue = deque(df['merge'])\n",
    "# queue[0].split()[1]\n",
    "len(queue)"
   ]
  },
  {
   "cell_type": "code",
   "execution_count": 8,
   "metadata": {},
   "outputs": [],
   "source": [
    "\n",
    "def scrap_product(littlest_cat, articles, k, save_db=False):\n",
    "    \n",
    "    try:\n",
    "        \n",
    "        #scrape and assign to variables\n",
    "        wproductid = articles[k]['data-id']\n",
    "        image = articles[k].img['src']\n",
    "        fprice = int(articles[k].find_all(\"span\",{\"class\":\"final-price\"})[0].text.strip().split()[0].strip('đ').replace('.',''))\n",
    "        rprice = [0 if articles[k].find_all(\"span\",{\"class\":\"price-regular\"})[0].text == '' else int(articles[k].find_all(\"span\",{\"class\":\"price-regular\"})[0].text.strip('đ').replace('.',''))][0]\n",
    "        discount = [0 if len(articles[k].find_all(\"span\",{\"class\":\"final-price\"})[0].text.strip().split()) == 1 else int(articles[k].find_all(\"span\",{\"class\":\"final-price\"})[0].text.strip().split()[1].split('%')[0])][0]\n",
    "        seller = articles[k]['data-brand'].replace('\\'','').replace('\"','')\n",
    "        title = articles[k].a['title'].strip().replace('\\'','').replace('\"','')\n",
    "        subcategory = articles[k]['data-category'].strip().replace('\\'','').replace('\"','')\n",
    "        category = articles[k]['data-category'].strip().replace('\\'','').replace('\"','').split('/')[0]\n",
    "        if articles[k].find_all('p',{\"class\":'review'}) == [] or articles[k].find_all('p',{\"class\":'review'})[0].text == 'Chưa có nhận xét':\n",
    "            numreviews = 0\n",
    "        else:\n",
    "            numreviews = int(articles[k].find_all('p',{\"class\":'review'})[0].text.strip('\\(\\)').split()[0])\n",
    "\n",
    "        rating = [int(articles[k].find_all('span',{\"class\":'rating-content'})[0].find('span')['style'].split(':')[1].split('%')[0]) if articles[k].find_all('span',{\"class\":'rating-content'}) != [] else 0][0]\n",
    "        tikinow = [0 if articles[k].find_all('i',{\"class\":\"tikicon icon-tikinow-20\"}) == [] else 1][0]\n",
    "        productlink = articles[k].a['href']\n",
    "        cat_id = int(littlest_cat.split()[1])\n",
    "        \n",
    "        product = Product(None, wproductid, image, fprice, category, subcategory, title, seller, rprice, discount, rating, numreviews, tikinow, productlink, cat_id)\n",
    "        if save_db:\n",
    "            conn = psycopg2.connect(user=\"postgres\",\n",
    "                        port=\"5432\",\n",
    "                        database=\"thuctamdb\",\n",
    "                           password=\"thuctam\")\n",
    "            conn.autocommit = True\n",
    "            cur = conn.cursor()\n",
    "            product.save_into_db()\n",
    "            conn.close()\n",
    "            \n",
    "    except Exception as err:\n",
    "        print(err, k)\n",
    "        "
   ]
  },
  {
   "cell_type": "code",
   "execution_count": 9,
   "metadata": {},
   "outputs": [],
   "source": [
    "def traverse_and_scrap(littlest_cat):   \n",
    "    url = littlest_cat.split()[0]\n",
    "    try:\n",
    "        soup = parse(url)\n",
    "        # Read next page cursor at the bottom of a product page\n",
    "        links = soup.find_all('div',{\"class\":'list-pager'})\n",
    "        articles = soup.find_all('div', {\"class\":'product-item'})\n",
    "        \n",
    "        for k in range(len(articles)):\n",
    "            scrap_product(littlest_cat, articles, k, save_db=True)\n",
    "        \n",
    "        while links[0].find_all('a', {\"class\": \"next\"}) != []:\n",
    "            try:\n",
    "                soup =  parse('https://tiki.vn'+links[0].find_all('a', {\"class\": \"next\"})[0]['href'])\n",
    "                articles = soup.find_all('div', {\"class\":\"product-item\"})\n",
    "                links = soup.find_all('div',{\"class\":'list-pager'})\n",
    "                for i in range(len(articles)):\n",
    "                    scrap_product(littlest_cat, articles, i, save_db=True)\n",
    "                \n",
    "            except Exception as e:\n",
    "                print(f'ERROR traverse and scrap smaller loop: {e}')\n",
    "                continue\n",
    "    \n",
    "    except Exception as err:\n",
    "        print(f'ERROR traverse and scrap bigger loop: {err}')"
   ]
  },
  {
   "cell_type": "code",
   "execution_count": 10,
   "metadata": {},
   "outputs": [],
   "source": [
    "def thread_get_sub_from_queue():\n",
    "    global queue\n",
    "    if not queue:\n",
    "        return 'Thread done'\n",
    "    littlest_cat = queue.popleft()\n",
    "    traverse_and_scrap(littlest_cat)\n",
    "    \n",
    "    thread_get_sub_from_queue()"
   ]
  },
  {
   "cell_type": "code",
   "execution_count": null,
   "metadata": {},
   "outputs": [
    {
     "name": "stdout",
     "output_type": "stream",
     "text": [
      "ERROR traverse and scrap bigger loop: list index out of range\n",
      "ERROR traverse and scrap bigger loop: list index out of range\n",
      "ERROR traverse and scrap bigger loop: list index out of range\n",
      "ERROR traverse and scrap bigger loop: list index out of range\n",
      "ERROR traverse and scrap bigger loop: list index out of range\n",
      "ERROR traverse and scrap bigger loop: list index out of range\n",
      "ERROR traverse and scrap bigger loop: list index out of range\n",
      "ERROR traverse and scrap bigger loop: list index out of range\n",
      "ERROR traverse and scrap bigger loop: list index out of range\n",
      "ERROR traverse and scrap bigger loop: list index out of range\n",
      "ERROR traverse and scrap bigger loop: list index out of range\n",
      "ERROR traverse and scrap bigger loop: list index out of range\n",
      "ERROR traverse and scrap bigger loop: list index out of range\n"
     ]
    }
   ],
   "source": [
    "start = datetime.now()\n",
    "if __name__ == '__main__':\n",
    "    with ThreadPoolExecutor(max_workers=4) as executor:\n",
    "        executor.submit(thread_get_sub_from_queue)\n",
    "        executor.submit(thread_get_sub_from_queue)\n",
    "        executor.submit(thread_get_sub_from_queue)\n",
    "        executor.submit(thread_get_sub_from_queue)\n",
    "\n",
    "end = datetime.now()\n",
    "print(f'Duration: {end - start}')"
   ]
  },
  {
   "cell_type": "code",
   "execution_count": null,
   "metadata": {},
   "outputs": [],
   "source": [
    "# uncomment and run to not threading\n",
    "# thread_get_sub_from_queue()"
   ]
  },
  {
   "cell_type": "code",
   "execution_count": null,
   "metadata": {},
   "outputs": [],
   "source": []
  }
 ],
 "metadata": {
  "kernelspec": {
   "display_name": "Python 3",
   "language": "python",
   "name": "python3"
  },
  "language_info": {
   "codemirror_mode": {
    "name": "ipython",
    "version": 3
   },
   "file_extension": ".py",
   "mimetype": "text/x-python",
   "name": "python",
   "nbconvert_exporter": "python",
   "pygments_lexer": "ipython3",
   "version": "3.7.5"
  }
 },
 "nbformat": 4,
 "nbformat_minor": 2
}
